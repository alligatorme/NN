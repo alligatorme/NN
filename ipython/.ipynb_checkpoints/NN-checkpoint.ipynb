{
 "cells": [
  {
   "cell_type": "code",
   "execution_count": 1,
   "metadata": {},
   "outputs": [
    {
     "name": "stdout",
     "output_type": "stream",
     "text": [
      "[[ 4  5  6  7]\n",
      " [ 8 10 12 14]\n",
      " [12 15 18 21]\n",
      " [16 20 24 28]]\n"
     ]
    }
   ],
   "source": [
    "import numpy as np\n",
    "a=np.array([1,2,3,4])\n",
    "b=np.array([4,5,6,7])\n",
    "c=np.tensordot(a,b,axes=0)\n",
    "print(c)"
   ]
  },
  {
   "cell_type": "code",
   "execution_count": 1,
   "metadata": {},
   "outputs": [
    {
     "name": "stdout",
     "output_type": "stream",
     "text": [
      "[[1 2 3]] (3,)\n"
     ]
    }
   ],
   "source": [
    "import numpy as np\n",
    "a=np.array([[1,2,3]])\n",
    "b=np.array([3,4,5])\n",
    "# c=np.append(a,b,axis=0)\n",
    "# c=np.concatenate((a,b),axis=0)\n",
    "# c=np.concatenate(c)\n",
    "print(a,b.transpose().shape)"
   ]
  },
  {
   "cell_type": "code",
   "execution_count": 2,
   "metadata": {},
   "outputs": [
    {
     "name": "stdout",
     "output_type": "stream",
     "text": [
      "[(0, 0), (10, 3), (20, 6), (30, 9), (40, 12), (50, 15), (60, 18), (70, 21), (80, 24), (90, 27), (100, 30), (110, 33), (120, 36), (130, 39), (140, 42), (150, 45), (160, 48), (170, 51), (180, 54), (190, 57), (200, 60), (210, 63), (220, 66), (230, 69), (240, 72), (250, 75), (260, 78), (270, 81), (280, 84), (290, 87)]\n"
     ]
    }
   ],
   "source": [
    "import numpy as np\n",
    "a=range(0,300,10)\n",
    "b=range(0,90,3)\n",
    "c=zip(a,b)\n",
    "print([(x,y) for x,y in c])"
   ]
  },
  {
   "cell_type": "code",
   "execution_count": 8,
   "metadata": {},
   "outputs": [
    {
     "name": "stdout",
     "output_type": "stream",
     "text": [
      "Wall time: 4.16 s\n",
      "Wall time: 46.9 ms\n",
      "Wall time: 31.6 ms\n"
     ]
    },
    {
     "ename": "ValueError",
     "evalue": "operands could not be broadcast together with shapes (242190,) (405,598) ",
     "output_type": "error",
     "traceback": [
      "\u001b[1;31m---------------------------------------------------------------------------\u001b[0m",
      "\u001b[1;31mValueError\u001b[0m                                Traceback (most recent call last)",
      "\u001b[1;32m<ipython-input-8-7abc0a1bd322>\u001b[0m in \u001b[0;36m<module>\u001b[1;34m()\u001b[0m\n\u001b[0;32m     21\u001b[0m \u001b[1;31m# print(rst[:15,:15,0]-rst1[:15,:15])\u001b[0m\u001b[1;33m\u001b[0m\u001b[1;33m\u001b[0m\u001b[0m\n\u001b[0;32m     22\u001b[0m \u001b[1;31m# tep=np.any(np.abs(rst[:,:,0]-rst1[:,:])>1e-10)\u001b[0m\u001b[1;33m\u001b[0m\u001b[1;33m\u001b[0m\u001b[0m\n\u001b[1;32m---> 23\u001b[1;33m \u001b[0mprint\u001b[0m\u001b[1;33m(\u001b[0m\u001b[0mnp\u001b[0m\u001b[1;33m.\u001b[0m\u001b[0many\u001b[0m\u001b[1;33m(\u001b[0m\u001b[0mrst\u001b[0m\u001b[1;33m-\u001b[0m\u001b[0mrst1\u001b[0m\u001b[1;33m)\u001b[0m\u001b[1;33m)\u001b[0m\u001b[1;33m\u001b[0m\u001b[0m\n\u001b[0m",
      "\u001b[1;31mValueError\u001b[0m: operands could not be broadcast together with shapes (242190,) (405,598) "
     ]
    }
   ],
   "source": [
    "import numpy as np\n",
    "import scipy.signal as sp\n",
    "import matplotlib.pylab as plt\n",
    "\n",
    "def form(ipt,knl,stp=(1,1)):\n",
    "    rst=[]\n",
    "    for i in range(0,ipt[0]-knl[0]+1,stp[0]):\n",
    "        for j in range(0,ipt[1]-knl[1]+1,stp[1]):\n",
    "            rst.append([(m+i)*ipt[1]+n+j for m in range(knl[0]) for n in range(knl[1])])\n",
    "    return np.array(rst)\n",
    "\n",
    "img=plt.imread('tst.jpg')\n",
    "dat=img[:,:,0]\n",
    "knl=np.floor(np.random.randn(3,3,3)*100)\n",
    "%time fm=form(dat.shape,knl.shape)\n",
    "crl=lambda x,y:sp.correlate2d(x,y,mode='valid') \n",
    "# %time rst1=np.sum([crl(img[:,:,i],knl[:,:,i]) for i in range(3)],axis=0)\n",
    "# %time rst=sp.correlate(img,knl,mode='valid',method='direct')\n",
    "%time rst=np.dot(dat.flatten()[fm],knl[:,:,0].flatten())\n",
    "%time rst1=crl(img[:,:,0],knl[:,:,0]).reshape(405,598)\n",
    "# print(rst[:15,:15,0]-rst1[:15,:15])\n",
    "# tep=np.any(np.abs(rst[:,:,0]-rst1[:,:])>1e-10)\n",
    "print(np.any(rst-rst1))"
   ]
  },
  {
   "cell_type": "code",
   "execution_count": 81,
   "metadata": {},
   "outputs": [
    {
     "name": "stdout",
     "output_type": "stream",
     "text": [
      "7.18 ms ± 105 µs per loop (mean ± std. dev. of 7 runs, 100 loops each)\n"
     ]
    }
   ],
   "source": [
    "import numpy as np\n",
    "import scipy.ndimage as sp\n",
    "import matplotlib.pylab as plt\n",
    "\n",
    "img=plt.imread('tst.jpg')\n",
    "dat=img[:,:,0]\n",
    "knl=np.array([[1,0,0],[0,1,0],[0,0,1]])\n",
    "\n",
    "%timeit rst=sp.correlate(dat,knl)\n"
   ]
  }
 ],
 "metadata": {
  "kernelspec": {
   "display_name": "Python 3",
   "language": "python",
   "name": "python3"
  },
  "language_info": {
   "codemirror_mode": {
    "name": "ipython",
    "version": 3
   },
   "file_extension": ".py",
   "mimetype": "text/x-python",
   "name": "python",
   "nbconvert_exporter": "python",
   "pygments_lexer": "ipython3",
   "version": "3.6.2"
  }
 },
 "nbformat": 4,
 "nbformat_minor": 2
}
