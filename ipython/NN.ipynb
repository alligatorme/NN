{
 "cells": [
  {
   "cell_type": "code",
   "execution_count": 1,
   "metadata": {},
   "outputs": [
    {
     "name": "stdout",
     "output_type": "stream",
     "text": [
      "[[ 4  5  6  7]\n",
      " [ 8 10 12 14]\n",
      " [12 15 18 21]\n",
      " [16 20 24 28]]\n"
     ]
    }
   ],
   "source": [
    "import numpy as np\n",
    "a=np.array([1,2,3,4])\n",
    "b=np.array([4,5,6,7])\n",
    "c=np.tensordot(a,b,axes=0)\n",
    "print(c)"
   ]
  },
  {
   "cell_type": "code",
   "execution_count": 1,
   "metadata": {},
   "outputs": [
    {
     "name": "stdout",
     "output_type": "stream",
     "text": [
      "[[1 2 3]] (3,)\n"
     ]
    }
   ],
   "source": [
    "import numpy as np\n",
    "a=np.array([[1,2,3]])\n",
    "b=np.array([3,4,5])\n",
    "# c=np.append(a,b,axis=0)\n",
    "# c=np.concatenate((a,b),axis=0)\n",
    "# c=np.concatenate(c)\n",
    "print(a,b.transpose().shape)"
   ]
  },
  {
   "cell_type": "code",
   "execution_count": 19,
   "metadata": {},
   "outputs": [
    {
     "name": "stdout",
     "output_type": "stream",
     "text": [
      "[(0, 0), (10, 3), (20, 6), (30, 9), (40, 12), (50, 15), (60, 18), (70, 21), (80, 24), (90, 27), (100, 30), (110, 33), (120, 36), (130, 39), (140, 42), (150, 45), (160, 48), (170, 51), (180, 54), (190, 57), (200, 60), (210, 63), (220, 66), (230, 69), (240, 72), (250, 75), (260, 78), (270, 81), (280, 84), (290, 87)]\n",
      "['__class__', '__delattr__', '__dir__', '__doc__', '__eq__', '__format__', '__ge__', '__getattribute__', '__gt__', '__hash__', '__init__', '__init_subclass__', '__iter__', '__le__', '__lt__', '__ne__', '__new__', '__next__', '__reduce__', '__reduce_ex__', '__repr__', '__setattr__', '__sizeof__', '__str__', '__subclasshook__']\n"
     ]
    }
   ],
   "source": [
    "import numpy as np\n",
    "a=range(0,300,10)\n",
    "b=range(0,90,3)\n",
    "c=zip(a,b)\n",
    "print([(x,y) for x,y in c])\n",
    "print(dir(c))"
   ]
  }
 ],
 "metadata": {
  "kernelspec": {
   "display_name": "Python 3",
   "language": "python",
   "name": "python3"
  },
  "language_info": {
   "codemirror_mode": {
    "name": "ipython",
    "version": 3
   },
   "file_extension": ".py",
   "mimetype": "text/x-python",
   "name": "python",
   "nbconvert_exporter": "python",
   "pygments_lexer": "ipython3",
   "version": "3.6.2"
  }
 },
 "nbformat": 4,
 "nbformat_minor": 2
}
