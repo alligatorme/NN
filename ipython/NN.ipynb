{
 "cells": [
  {
   "cell_type": "code",
   "execution_count": 1,
   "metadata": {},
   "outputs": [
    {
     "name": "stdout",
     "output_type": "stream",
     "text": [
      "[[ 4  5  6  7]\n",
      " [ 8 10 12 14]\n",
      " [12 15 18 21]\n",
      " [16 20 24 28]]\n"
     ]
    }
   ],
   "source": [
    "import numpy as np\n",
    "a=np.array([1,2,3,4])\n",
    "b=np.array([4,5,6,7])\n",
    "c=np.tensordot(a,b,axes=0)\n",
    "print(c)"
   ]
  },
  {
   "cell_type": "code",
   "execution_count": 1,
   "metadata": {},
   "outputs": [
    {
     "name": "stdout",
     "output_type": "stream",
     "text": [
      "[[1 2 3]] (3,)\n"
     ]
    }
   ],
   "source": [
    "import numpy as np\n",
    "a=np.array([[1,2,3]])\n",
    "b=np.array([3,4,5])\n",
    "# c=np.append(a,b,axis=0)\n",
    "# c=np.concatenate((a,b),axis=0)\n",
    "# c=np.concatenate(c)\n",
    "print(a,b.transpose().shape)"
   ]
  },
  {
   "cell_type": "code",
   "execution_count": 2,
   "metadata": {},
   "outputs": [
    {
     "name": "stdout",
     "output_type": "stream",
     "text": [
      "[(0, 0), (10, 3), (20, 6), (30, 9), (40, 12), (50, 15), (60, 18), (70, 21), (80, 24), (90, 27), (100, 30), (110, 33), (120, 36), (130, 39), (140, 42), (150, 45), (160, 48), (170, 51), (180, 54), (190, 57), (200, 60), (210, 63), (220, 66), (230, 69), (240, 72), (250, 75), (260, 78), (270, 81), (280, 84), (290, 87)]\n"
     ]
    }
   ],
   "source": [
    "import numpy as np\n",
    "a=range(0,300,10)\n",
    "b=range(0,90,3)\n",
    "c=zip(a,b)\n",
    "print([(x,y) for x,y in c])"
   ]
  },
  {
   "cell_type": "code",
   "execution_count": 73,
   "metadata": {},
   "outputs": [
    {
     "name": "stdout",
     "output_type": "stream",
     "text": [
      "36.1 ms ± 534 µs per loop (mean ± std. dev. of 7 runs, 10 loops each)\n",
      "49.4 ms ± 869 µs per loop (mean ± std. dev. of 7 runs, 10 loops each)\n",
      "Wall time: 0 ns\n",
      "False\n"
     ]
    }
   ],
   "source": [
    "import numpy as np\n",
    "import scipy.signal as sp\n",
    "import matplotlib.pylab as plt\n",
    "\n",
    "def form(ipt,knl,stp=(1,1)):\n",
    "    rst=[]\n",
    "    for i in range(0,ipt[0]-knl[0]+1,stp[0]):\n",
    "        for j in range(0,ipt[1]-knl[1]+1,stp[1]):\n",
    "            rst.append([(m+i)*ipt[1]+n+j for m in range(knl[0]) for n in range(knl[1])])\n",
    "    return np.array(rst)\n",
    "\n",
    "img=plt.imread('tst.jpg')\n",
    "dat=img[:,:,0]\n",
    "knl=np.array([[1,1,1],[1,1,0],[1,0,0]])\n",
    "fm=form(dat.shape,knl.shape)\n",
    "%timeit rst1=sp.correlate2d(dat,knl,mode='valid')\n",
    "%timeit rst=np.dot(dat.flatten()[fm],knl.flatten())\n",
    "%time tp=np.any(rst.reshape((405,598))-rst1)\n",
    "print(tp)"
   ]
  },
  {
   "cell_type": "code",
   "execution_count": 81,
   "metadata": {},
   "outputs": [
    {
     "name": "stdout",
     "output_type": "stream",
     "text": [
      "7.18 ms ± 105 µs per loop (mean ± std. dev. of 7 runs, 100 loops each)\n"
     ]
    }
   ],
   "source": [
    "import numpy as np\n",
    "import scipy.ndimage as sp\n",
    "import matplotlib.pylab as plt\n",
    "\n",
    "img=plt.imread('tst.jpg')\n",
    "dat=img[:,:,0]\n",
    "knl=np.array([[1,0,0],[0,1,0],[0,0,1]])\n",
    "\n",
    "%timeit rst=sp.correlate(dat,knl)\n"
   ]
  }
 ],
 "metadata": {
  "kernelspec": {
   "display_name": "Python 3",
   "language": "python",
   "name": "python3"
  },
  "language_info": {
   "codemirror_mode": {
    "name": "ipython",
    "version": 3
   },
   "file_extension": ".py",
   "mimetype": "text/x-python",
   "name": "python",
   "nbconvert_exporter": "python",
   "pygments_lexer": "ipython3",
   "version": "3.6.2"
  }
 },
 "nbformat": 4,
 "nbformat_minor": 2
}
